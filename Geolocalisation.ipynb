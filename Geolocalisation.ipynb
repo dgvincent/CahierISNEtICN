{
 "cells": [
  {
   "cell_type": "markdown",
   "metadata": {},
   "source": [
    "# La géolocalisation avec le module geopy \n",
    "\n",
    "Ce module permet de récupérer la longitude et la latitude d'un ieu en coordonnées WGS84 exprimées en decgrés décimaux\n",
    "\n"
   ]
  },
  {
   "cell_type": "markdown",
   "metadata": {},
   "source": [
    "# Localisation du lycee Camille Saint Saëns"
   ]
  },
  {
   "cell_type": "code",
   "execution_count": 2,
   "metadata": {},
   "outputs": [
    {
     "name": "stdout",
     "output_type": "stream",
     "text": [
      "longitude =  1.0936487 latitude =  49.44228\n"
     ]
    }
   ],
   "source": [
    "import geopy\n",
    "from geopy.geocoders import Nominatim\n",
    "geocoder = Nominatim()\n",
    "adresse = \"22 rue Saint Lo, Rouen, France\"\n",
    "location = geocoder.geocode(adresse, True, 30)\n",
    "print(\"longitude = \",location.longitude,\"latitude = \",location.latitude)"
   ]
  },
  {
   "cell_type": "markdown",
   "metadata": {},
   "source": [
    "# Localisation d' adresse quelconque.\n",
    "\n",
    "Créer un programme qui renvoie la géolocalisation d'un point dont l'adresse est saisie par l'utilisateur."
   ]
  },
  {
   "cell_type": "code",
   "execution_count": 7,
   "metadata": {},
   "outputs": [
    {
     "name": "stdout",
     "output_type": "stream",
     "text": [
      "saissez l'adresse du lieu, la ville, le pays 39 rue des pins, Labenne, France\n",
      "Les coordonnées du point situé au  39 rue des pins, Labenne, France sont : \n",
      "longitude =  -1.4318865 ° latitude =  43.6020846 °\n"
     ]
    }
   ],
   "source": [
    "import geopy\n",
    "from geopy.geocoders import Nominatim\n",
    "geocoder = Nominatim()\n",
    "adresse = input(\"saissez l'adresse du lieu, la ville, le pays \")\n",
    "location = geocoder.geocode(adresse, True, 30)\n",
    "print(\"Les coordonnées du point situé au \",adresse,\"sont : \")\n",
    "print(\"longitude = \",location.longitude,\"°\",\"latitude = \",location.latitude,\"°\")"
   ]
  },
  {
   "cell_type": "markdown",
   "metadata": {},
   "source": [
    "# Saisie des résultats dans un fichier csv \n",
    "\n",
    "Cette approche vise à illustrer la gestion simple des données."
   ]
  },
  {
   "cell_type": "code",
   "execution_count": null,
   "metadata": {
    "collapsed": true
   },
   "outputs": [],
   "source": []
  },
  {
   "cell_type": "markdown",
   "metadata": {},
   "source": [
    "# Saisie des résultats dans une base de donées sqlite \n",
    "\n",
    "Cette approche vise à illustrer la gestion des données dans une base de données dédiée."
   ]
  },
  {
   "cell_type": "code",
   "execution_count": null,
   "metadata": {
    "collapsed": true
   },
   "outputs": [],
   "source": []
  }
 ],
 "metadata": {
  "kernelspec": {
   "display_name": "Python 3",
   "language": "python",
   "name": "python3"
  },
  "language_info": {
   "codemirror_mode": {
    "name": "ipython",
    "version": 3
   },
   "file_extension": ".py",
   "mimetype": "text/x-python",
   "name": "python",
   "nbconvert_exporter": "python",
   "pygments_lexer": "ipython3",
   "version": "3.5.3"
  }
 },
 "nbformat": 4,
 "nbformat_minor": 2
}
